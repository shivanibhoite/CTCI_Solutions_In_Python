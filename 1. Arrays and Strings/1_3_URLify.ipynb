{
  "nbformat": 4,
  "nbformat_minor": 0,
  "metadata": {
    "colab": {
      "name": "1.3 URLify.ipynb",
      "provenance": [],
      "collapsed_sections": []
    },
    "kernelspec": {
      "name": "python3",
      "display_name": "Python 3"
    }
  },
  "cells": [
    {
      "cell_type": "markdown",
      "metadata": {
        "id": "JHRq52MzTM3t",
        "colab_type": "text"
      },
      "source": [
        "**1.3 URLify:** Write a method to replace all spaces in a string with '%20'. You may assume that the string\n",
        "has sufficient space at the end to hold the additional characters, and that you are given the \"true\"\n",
        "length of the string"
      ]
    },
    {
      "cell_type": "code",
      "metadata": {
        "id": "wvHwWsROTVav",
        "colab_type": "code",
        "colab": {}
      },
      "source": [
        "# Solution 1\n",
        "\n",
        "# This is a 2 pointer technique  - there are 2 pointers which modify the string at the same time\n",
        "\n",
        "# Time Complexity - O(n)\n",
        "\n",
        "\n",
        "MAX = 1000\n",
        "\n",
        "def solution_1(string):\n",
        "  string = string.strip()\n",
        "\n",
        "  length = len(string)\n",
        "  space_count = string.count(' ')\n",
        "\n",
        "  new_length = length + space_count * 2\n",
        "\n",
        "  if new_length > MAX:\n",
        "    return -1\n",
        "\n",
        "  index = new_length - 1\n",
        "\n",
        "  string = list(string)\n",
        "\n",
        "  for i in range (length,new_length):\n",
        "    string.append(0)\n",
        "\n",
        "\n",
        "  for i in range (length-1,0,-1):\n",
        "    if string[i]==' ':\n",
        "      string[index]='0'\n",
        "      string[index-1]='2'\n",
        "      string[index-2]='%'\n",
        "      index-=3\n",
        "    else:\n",
        "      string[index]=string[i]\n",
        "      index-=1\n",
        "    \n",
        "  return ''.join(string)"
      ],
      "execution_count": 0,
      "outputs": []
    },
    {
      "cell_type": "code",
      "metadata": {
        "id": "MoQLAeFbkqrc",
        "colab_type": "code",
        "colab": {
          "base_uri": "https://localhost:8080/",
          "height": 34
        },
        "outputId": "5250c76d-bf72-4d05-ed69-91c8a03686ad"
      },
      "source": [
        "solution_1('hi my name is i')"
      ],
      "execution_count": 16,
      "outputs": [
        {
          "output_type": "execute_result",
          "data": {
            "text/plain": [
              "'hi%20my%20name%20is%20i'"
            ]
          },
          "metadata": {
            "tags": []
          },
          "execution_count": 16
        }
      ]
    },
    {
      "cell_type": "code",
      "metadata": {
        "id": "OUVCSZUcl7HB",
        "colab_type": "code",
        "colab": {}
      },
      "source": [
        "# solution 2\n",
        "\n",
        "# using the replace function in python\n",
        "\n",
        "# Time complexity - O(n)\n",
        "\n",
        "def solution_2(string):\n",
        "\n",
        "  string=string.replace(\" \",\"%20\")\n",
        "\n",
        "  return string"
      ],
      "execution_count": 0,
      "outputs": []
    },
    {
      "cell_type": "code",
      "metadata": {
        "id": "ZgPGEmhacgAT",
        "colab_type": "code",
        "colab": {
          "base_uri": "https://localhost:8080/",
          "height": 34
        },
        "outputId": "fd5df0c9-bfb9-45c7-e8d1-ff6c65baa247"
      },
      "source": [
        "solution_2('hi my name is i')"
      ],
      "execution_count": 20,
      "outputs": [
        {
          "output_type": "execute_result",
          "data": {
            "text/plain": [
              "'hi%20my%20name%20is%20i'"
            ]
          },
          "metadata": {
            "tags": []
          },
          "execution_count": 20
        }
      ]
    },
    {
      "cell_type": "code",
      "metadata": {
        "id": "720O_JXucmH3",
        "colab_type": "code",
        "colab": {}
      },
      "source": [
        ""
      ],
      "execution_count": 0,
      "outputs": []
    }
  ]
}