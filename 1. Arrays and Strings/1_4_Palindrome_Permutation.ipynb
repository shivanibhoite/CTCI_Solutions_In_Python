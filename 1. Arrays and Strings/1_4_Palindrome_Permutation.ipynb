{
  "nbformat": 4,
  "nbformat_minor": 0,
  "metadata": {
    "colab": {
      "name": "1.4 Palindrome Permutation.ipynb",
      "provenance": []
    },
    "kernelspec": {
      "name": "python3",
      "display_name": "Python 3"
    }
  },
  "cells": [
    {
      "cell_type": "markdown",
      "metadata": {
        "id": "L3bd1M0FdQoa",
        "colab_type": "text"
      },
      "source": [
        "**1.4 Palindrome Permutation:** Given a string, write a function to check if it is a permutation of a palindrome. A palindrome is a word or phrase that is the same forwards and backwards. A permutation\n",
        "is a rearrangement of letters. The palindrome does not need to be limited to just dictionary words. "
      ]
    },
    {
      "cell_type": "code",
      "metadata": {
        "id": "nvWQokmIdX6l",
        "colab_type": "code",
        "colab": {}
      },
      "source": [
        "# Solution 1 \n",
        "\n",
        "# This solution just makes sure if we have only 1 letter which is odd one\n",
        "# Time Complexity - O(n)\n",
        "# Space Complexity - O(n)\n",
        "\n",
        "def solution_1(s):\n",
        "        d={}\n",
        "        odd=0\n",
        "        for ch in s:\n",
        "            if ch in d:\n",
        "                d[ch]+=1\n",
        "            else:\n",
        "                d[ch]=1\n",
        "        \n",
        "        for k,v in d.items():\n",
        "            if v%2!=0:\n",
        "                odd+=1\n",
        "            \n",
        "        return odd<=1"
      ],
      "execution_count": 0,
      "outputs": []
    },
    {
      "cell_type": "code",
      "metadata": {
        "id": "eXGPeSdTnhD2",
        "colab_type": "code",
        "colab": {
          "base_uri": "https://localhost:8080/",
          "height": 34
        },
        "outputId": "069b17cd-727a-46d2-c3a1-01076d0696ce"
      },
      "source": [
        "solution_1('abbbcccd')"
      ],
      "execution_count": 8,
      "outputs": [
        {
          "output_type": "execute_result",
          "data": {
            "text/plain": [
              "False"
            ]
          },
          "metadata": {
            "tags": []
          },
          "execution_count": 8
        }
      ]
    },
    {
      "cell_type": "code",
      "metadata": {
        "id": "Mk46aqlvnjis",
        "colab_type": "code",
        "colab": {}
      },
      "source": [
        "# Solution 2\n",
        "\n",
        "# Time Complexity - O(n)\n",
        "# Space Complexity - O(n)\n",
        "\n",
        "def solution_2(string):\n",
        "  s = set()\n",
        "  for ch in string:\n",
        "    if ch in s:\n",
        "      s.remove(ch)\n",
        "    else:\n",
        "      s.add(ch)\n",
        "\n",
        "  if len(s)==0 or len(s)==1:\n",
        "    return True\n",
        "  \n",
        "  return False"
      ],
      "execution_count": 0,
      "outputs": []
    },
    {
      "cell_type": "code",
      "metadata": {
        "id": "8f3icmlIoxEO",
        "colab_type": "code",
        "colab": {
          "base_uri": "https://localhost:8080/",
          "height": 34
        },
        "outputId": "f82e9a8c-93a4-43e4-a3d1-31fa69e91842"
      },
      "source": [
        "solution_2('abbc')"
      ],
      "execution_count": 13,
      "outputs": [
        {
          "output_type": "execute_result",
          "data": {
            "text/plain": [
              "False"
            ]
          },
          "metadata": {
            "tags": []
          },
          "execution_count": 13
        }
      ]
    },
    {
      "cell_type": "code",
      "metadata": {
        "id": "mK8EEkNao3cY",
        "colab_type": "code",
        "colab": {}
      },
      "source": [
        "# Solution 3\n",
        "\n",
        "# Time Complexity - O(n)\n",
        "# Space Complexity - O(128)\n",
        "\n",
        "def solution_3(string):\n",
        "\n",
        "  map1 = [0 for _ in range(128)]\n",
        "\n",
        "  for ch in string:\n",
        "    map1[ord(ch)]+=1\n",
        "\n",
        "  i=0\n",
        "  count=0\n",
        "  while i<128 and count<=1:\n",
        "    if map1[i]%2!=0:\n",
        "      count+=1\n",
        "    i+=1\n",
        "  \n",
        "  return count<=1\n",
        "\n"
      ],
      "execution_count": 0,
      "outputs": []
    },
    {
      "cell_type": "code",
      "metadata": {
        "id": "GyTNZR5GqC6X",
        "colab_type": "code",
        "colab": {
          "base_uri": "https://localhost:8080/",
          "height": 34
        },
        "outputId": "6e381e31-3e33-4185-9fb3-f30c7ee20a43"
      },
      "source": [
        "solution_3('abbcc')"
      ],
      "execution_count": 24,
      "outputs": [
        {
          "output_type": "execute_result",
          "data": {
            "text/plain": [
              "True"
            ]
          },
          "metadata": {
            "tags": []
          },
          "execution_count": 24
        }
      ]
    },
    {
      "cell_type": "code",
      "metadata": {
        "id": "SKzXXTs3qLci",
        "colab_type": "code",
        "colab": {}
      },
      "source": [
        ""
      ],
      "execution_count": 0,
      "outputs": []
    }
  ]
}