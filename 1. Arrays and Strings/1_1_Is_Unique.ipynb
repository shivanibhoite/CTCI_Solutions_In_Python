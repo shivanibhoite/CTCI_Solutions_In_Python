{
  "nbformat": 4,
  "nbformat_minor": 0,
  "metadata": {
    "colab": {
      "name": "1.1 Is Unique.ipynb",
      "provenance": []
    },
    "kernelspec": {
      "name": "python3",
      "display_name": "Python 3"
    }
  },
  "cells": [
    {
      "cell_type": "markdown",
      "metadata": {
        "id": "7-k61SZ0Fwle",
        "colab_type": "text"
      },
      "source": [
        "**1.1 Is Unique:** Implement an algorithm to determine if a string has all unique characters. What if you\n",
        "cannot use additional data structures? "
      ]
    },
    {
      "cell_type": "code",
      "metadata": {
        "id": "DgpmrjmmFufy",
        "colab_type": "code",
        "colab": {}
      },
      "source": [
        "#Questions to ask -\n",
        "#If the string has all unicode characters or ascii characters\n"
      ],
      "execution_count": 0,
      "outputs": []
    },
    {
      "cell_type": "code",
      "metadata": {
        "id": "GRTp4l4nFzD3",
        "colab_type": "code",
        "colab": {}
      },
      "source": [
        "# Solution 1 \n",
        "# Time Complexity - O(n) , Space complexity - O(1)\n",
        "# This solution can be considered the best case solution \n",
        "\n",
        "\n",
        "def unique_1(string):\n",
        "\n",
        "  if len(string)>128:\n",
        "    return False\n",
        "  \n",
        "\n",
        "  char_set = [False for _ in range(128)]\n",
        "\n",
        "  for ch in string:\n",
        "    index = ord(ch)\n",
        "\n",
        "    if char_set[index]!=False:\n",
        "      return False\n",
        "    else:\n",
        "      char_set[index]=True\n",
        "  \n",
        "  return True"
      ],
      "execution_count": 0,
      "outputs": []
    },
    {
      "cell_type": "code",
      "metadata": {
        "id": "p8kJmDrCI0-t",
        "colab_type": "code",
        "colab": {
          "base_uri": "https://localhost:8080/",
          "height": 34
        },
        "outputId": "404010b2-27f2-4411-9a89-03ead8d62f12"
      },
      "source": [
        "#Testcases covered -\n",
        "\n",
        "unique_1('abcd')\n",
        "unique_1('s4fad')\n",
        "unique_1('23ds2')\n",
        "unique_1('hb 627jh=j ()')\n",
        "unique_1('')"
      ],
      "execution_count": 37,
      "outputs": [
        {
          "output_type": "execute_result",
          "data": {
            "text/plain": [
              "True"
            ]
          },
          "metadata": {
            "tags": []
          },
          "execution_count": 37
        }
      ]
    },
    {
      "cell_type": "code",
      "metadata": {
        "id": "0r77QXZuJENr",
        "colab_type": "code",
        "colab": {}
      },
      "source": [
        "# Solution 2\n",
        "\n",
        "# Time complexity - O(n) , Space Complexity - O(c), where c is the characters stored \n",
        "# in hash set before a duplicate character comes in or c can be size of array when all characters are duplicate \n",
        "\n",
        "def unique_2(string):\n",
        "\n",
        "  char_set = set ()\n",
        "\n",
        "  for ch in string:\n",
        "    if ch in char_set:\n",
        "      return False\n",
        "    else:\n",
        "      char_set.add(ch)\n",
        "  \n",
        "  return True"
      ],
      "execution_count": 0,
      "outputs": []
    },
    {
      "cell_type": "code",
      "metadata": {
        "id": "TJn9DfVUMPdW",
        "colab_type": "code",
        "colab": {}
      },
      "source": [
        "# Solution 3\n",
        "\n",
        "# Time Complexity - O(n^2) \n",
        "# No extra space\n",
        "\n",
        "# 2 for loops which do character by character comparison"
      ],
      "execution_count": 0,
      "outputs": []
    },
    {
      "cell_type": "code",
      "metadata": {
        "id": "yYutULe0MRJy",
        "colab_type": "code",
        "colab": {}
      },
      "source": [
        ""
      ],
      "execution_count": 0,
      "outputs": []
    }
  ]
}