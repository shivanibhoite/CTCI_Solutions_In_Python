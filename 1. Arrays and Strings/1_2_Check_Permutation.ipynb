{
  "nbformat": 4,
  "nbformat_minor": 0,
  "metadata": {
    "colab": {
      "name": "1.2 Check Permutation.ipynb",
      "provenance": []
    },
    "kernelspec": {
      "name": "python3",
      "display_name": "Python 3"
    }
  },
  "cells": [
    {
      "cell_type": "markdown",
      "metadata": {
        "id": "Q8Mj0mFCN7C2",
        "colab_type": "text"
      },
      "source": [
        "**1.2 Check Permutation:** Given two strings, write a method to decide if one is a permutation of the\n",
        "other. "
      ]
    },
    {
      "cell_type": "code",
      "metadata": {
        "id": "lEpG8nxLN9rG",
        "colab_type": "code",
        "colab": {}
      },
      "source": [
        "#  Questions to ask\n",
        "\n",
        "# 1- If all the characters in the string are of the same case\n",
        "# eg is God a permutation of dog\n",
        "\n",
        "# 2 - If the white space is significant \n",
        "# eg if 'shivani    ' is same as 'shivani'"
      ],
      "execution_count": 0,
      "outputs": []
    },
    {
      "cell_type": "code",
      "metadata": {
        "id": "eLIt_6msPsiJ",
        "colab_type": "code",
        "colab": {}
      },
      "source": [
        "#Solution 1\n",
        "# Sort and check if 2 strings are same\n",
        "\n",
        "# Time Complexity - O(n log n) , Space Complexity - None\n",
        "\n",
        "def solution_1(string1,string2):\n",
        "\n",
        "  string1=string1.strip()\n",
        "  string2=string2.strip()\n",
        "\n",
        "  return sorted(string1) == sorted(string2)\n",
        "\n",
        "\n"
      ],
      "execution_count": 0,
      "outputs": []
    },
    {
      "cell_type": "code",
      "metadata": {
        "id": "tikfD1KZP2b7",
        "colab_type": "code",
        "colab": {
          "base_uri": "https://localhost:8080/",
          "height": 34
        },
        "outputId": "a7c772bd-354d-4809-a85e-082024e56497"
      },
      "source": [
        "solution_1('abc','abc3')"
      ],
      "execution_count": 23,
      "outputs": [
        {
          "output_type": "execute_result",
          "data": {
            "text/plain": [
              "False"
            ]
          },
          "metadata": {
            "tags": []
          },
          "execution_count": 23
        }
      ]
    },
    {
      "cell_type": "code",
      "metadata": {
        "id": "rljAk1MQP43U",
        "colab_type": "code",
        "colab": {}
      },
      "source": [
        "# Solution 2 \n",
        "# Make character set from 2 strings , check if character sets are same\n",
        "# character set to thta from question 1\n",
        "\n",
        "# Time Complexity - O(n) , Space complexity - O(1) or O(2)\n",
        "\n"
      ],
      "execution_count": 0,
      "outputs": []
    },
    {
      "cell_type": "code",
      "metadata": {
        "id": "tT6Jn9ekRyML",
        "colab_type": "code",
        "colab": {}
      },
      "source": [
        "# Solution 3\n",
        "\n",
        "# Implement Hash table\n",
        "\n",
        "# "
      ],
      "execution_count": 0,
      "outputs": []
    },
    {
      "cell_type": "code",
      "metadata": {
        "id": "EYhJTLMlTBoi",
        "colab_type": "code",
        "colab": {}
      },
      "source": [
        ""
      ],
      "execution_count": 0,
      "outputs": []
    }
  ]
}